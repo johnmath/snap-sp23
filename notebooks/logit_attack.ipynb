{
 "cells": [
  {
   "cell_type": "code",
   "execution_count": 1,
   "id": "e9ce3765",
   "metadata": {},
   "outputs": [],
   "source": [
    "%load_ext autoreload\n",
    "%autoreload 2"
   ]
  },
  {
   "cell_type": "code",
   "execution_count": 2,
   "id": "6de9fdcc",
   "metadata": {},
   "outputs": [],
   "source": [
    "import os\n",
    "os.chdir('../')"
   ]
  },
  {
   "cell_type": "code",
   "execution_count": 3,
   "id": "6b833e40-3d3c-495a-bc9d-565673e9f95e",
   "metadata": {},
   "outputs": [],
   "source": [
    "import numpy as np\n",
    "from tqdm import tqdm\n",
    "\n",
    "from propinf.attack.attack_utils import AttackUtil\n",
    "import propinf.data.ModifiedDatasets as data\n",
    "from sklearn.model_selection import train_test_split\n",
    "\n",
    "# import warnings\n",
    "# warnings.filterwarnings(\"ignore\")\n",
    "\n",
    "# cat_columns, cont_columns = data.get_census_columns()\n",
    "cat_columns, cont_columns = data.get_adult_columns()\n",
    "# cat_columns, cont_columns = data.get_market_columns()\n",
    "# cat_columns, cont_columns = data.get_heart_columns()\n",
    "\n",
    "dataset = \"adult\"\n",
    "df_train, df_test = data.load_data(dataset, one_hot=False)"
   ]
  },
  {
   "cell_type": "code",
   "execution_count": 4,
   "id": "49f7fde0-02c9-4d8d-961f-9b3f8df5ea48",
   "metadata": {},
   "outputs": [],
   "source": [
    "categories = ['sex', 'marital-status']\n",
    "target_attributes = [' Male', ' Divorced']\n",
    "sub_categories = ['race']\n",
    "sub_attributes = [' Black']\n",
    "\n",
    "t0 = 0.01\n",
    "t1 = 0.05\n",
    "\n",
    "n_trials = 1\n",
    "pois_list = [0.01]\n",
    "models_list = [[]]\n",
    "freq_list = [0.10]\n",
    "n_queries = [100, 500, 1000, 1500, 2000]"
   ]
  },
  {
   "cell_type": "code",
   "execution_count": 5,
   "id": "d14bd38c-e5b1-45e3-b688-d6c792bf0121",
   "metadata": {},
   "outputs": [
    {
     "data": {
      "text/plain": [
       "array([' Adm-clerical', ' Exec-managerial', ' Handlers-cleaners',\n",
       "       ' Prof-specialty', ' Other-service', ' Sales', ' Craft-repair',\n",
       "       ' Transport-moving', ' Farming-fishing', ' Machine-op-inspct',\n",
       "       ' Tech-support', ' ?', ' Protective-serv', ' Armed-Forces',\n",
       "       ' Priv-house-serv'], dtype=object)"
      ]
     },
     "execution_count": 5,
     "metadata": {},
     "output_type": "execute_result"
    }
   ],
   "source": [
    "df_train['occupation'].unique()"
   ]
  },
  {
   "cell_type": "markdown",
   "id": "c30dcfaa-2747-4fd1-bac0-e93a403cc372",
   "metadata": {},
   "source": [
    "# Our work"
   ]
  },
  {
   "cell_type": "markdown",
   "id": "d732ce89-ce19-4f9f-b45a-5c7dee06d1de",
   "metadata": {},
   "source": [
    "**In order to increase the size of target dataset, need to change code in ModifiedDataset.py**"
   ]
  },
  {
   "cell_type": "code",
   "execution_count": 6,
   "id": "ad5bcae1-321f-4692-9979-323c6d1f31bd",
   "metadata": {},
   "outputs": [
    {
     "name": "stderr",
     "output_type": "stream",
     "text": [
      "Ablation List:   0%|          | 0/1 [00:00<?, ?it/s]"
     ]
    },
    {
     "name": "stdout",
     "output_type": "stream",
     "text": [
      "Before attempting to run the property inference attack, set hyperparameters using\n",
      "        1. set_attack_hyperparameters()\n",
      "        2. set_model_hyperparameters()\n"
     ]
    },
    {
     "name": "stderr",
     "output_type": "stream",
     "text": [
      "/Users/gio/projects/research/privacy/propinf_ft/propinf/data/ModifiedDatasets.py:530: SettingWithCopyWarning: \n",
      "A value is trying to be set on a copy of a slice from a DataFrame.\n",
      "Try using .loc[row_indexer,col_indexer] = value instead\n",
      "\n",
      "See the caveats in the documentation: https://pandas.pydata.org/pandas-docs/stable/user_guide/indexing.html#returning-a-view-versus-a-copy\n",
      "  Dp.loc[:, label] = poison_class\n"
     ]
    },
    {
     "name": "stdout",
     "output_type": "stream",
     "text": [
      "Oversampling test queries\n"
     ]
    },
    {
     "name": "stderr",
     "output_type": "stream",
     "text": [
      "100%|██████████| 1/1 [02:09<00:00, 129.91s/it]\n",
      "Ablation List: 100%|██████████| 1/1 [02:09<00:00, 129.91s/it]\n"
     ]
    }
   ],
   "source": [
    "num_query_trials = 10\n",
    "avg_success = {}\n",
    "avg_acc = {}\n",
    "avg_prec = {}\n",
    "avg_recall = {}\n",
    "avg_f1 = {}\n",
    "\n",
    "mu0_list = [0.0] * len(pois_list)\n",
    "var0_list = [0.0] * len(pois_list)\n",
    "mu1_list = [0.0] * len(pois_list)\n",
    "var1_list = [0.0] * len(pois_list)\n",
    "\n",
    "for abl_ind, nq in enumerate(tqdm(freq_list, desc=\"Ablation List\")):\n",
    "\n",
    "    # Done to keep track of acc metrics, change df_test to df_test_subset\n",
    "    # df_test_subset, df_cv = train_test_split(df_test, test_size=0.20, random_state=21)\n",
    "    # df_cv = data.generate_subpopulation(df_cv, categories=categories, target_attributes=target_attributes)\n",
    "    # print(df_cv)\n",
    "\n",
    "    attack_util = AttackUtil(\n",
    "        target_model_layers=[32, 16],\n",
    "        df_train=df_train,\n",
    "        df_test=df_test,\n",
    "        cat_columns=cat_columns,\n",
    "    )\n",
    "\n",
    "    for pois_idx, user_percent in enumerate(tqdm(pois_list)):\n",
    "\n",
    "        # avg_acc[user_percent,aidx] = 0.0\n",
    "        # avg_prec[user_percent,aidx] = 0.0\n",
    "        # avg_recall[user_percent,aidx] = 0.0\n",
    "        # avg_f1[user_percent,aidx] = 0.0\n",
    "        avg_success[user_percent, abl_ind] = 0.0\n",
    "\n",
    "        attack_util.set_attack_hyperparameters(\n",
    "            categories=categories,\n",
    "            target_attributes=target_attributes,\n",
    "            sub_categories=sub_categories,\n",
    "            sub_attributes=sub_attributes,\n",
    "            subproperty_sampling=False,\n",
    "            allow_custom_freq=False,\n",
    "            label_freq=0.7,\n",
    "            poison_percent=user_percent,\n",
    "            poison_class=1,\n",
    "            k=None,\n",
    "            t0=t0,\n",
    "            t1=t1,\n",
    "            variance_adjustment=1.0,\n",
    "            middle=\"median\",\n",
    "            num_queries=600,\n",
    "            pois_random_seed=21,\n",
    "            num_target_models=5,\n",
    "            ntarget_samples=1500,\n",
    "            nsub_samples=1500,\n",
    "            allow_subsampling=False,\n",
    "            allow_target_subsampling=False,\n",
    "        )\n",
    "\n",
    "        attack_util.set_shadow_model_hyperparameters(\n",
    "            device=\"cpu\",\n",
    "            num_workers=1,\n",
    "            batch_size=1024,\n",
    "            layer_sizes=[32, 16],\n",
    "            verbose=False,\n",
    "            mini_verbose=False,\n",
    "            epochs=15,\n",
    "            alterdata_list=[0, 0, 0, 0, 0, 0, 0, 0, 0, 0, 1, 1, 1, 1, 1],\n",
    "            # FTepochs=5,\n",
    "            tol=1e-6,\n",
    "        )\n",
    "\n",
    "        for i in range(n_trials):\n",
    "\n",
    "            attack_util.generate_datasets()\n",
    "\n",
    "            attack_util.train_and_poison_target(need_metrics=False)\n",
    "            # acc, prec, recall, f1 =  attack_util.train_and_poison_target(need_metrics=True, df_cv = df_cv)\n",
    "\n",
    "            # start_time = time.time()\n",
    "            (\n",
    "                out_M0,\n",
    "                out_M1,\n",
    "                threshold,\n",
    "                correct_trials,\n",
    "            ) = attack_util.property_inference_categorical(\n",
    "                num_shadow_models=4,\n",
    "                query_trials=num_query_trials,\n",
    "                query_selection=\"random\",\n",
    "                distinguishing_test=\"median\",\n",
    "            )\n",
    "            # end_time = time.time()\n",
    "            # print(end_time-start_time)\n",
    "\n",
    "            # avg_acc[user_percent, aidx] = avg_acc[user_percent, aidx] + acc/n_trials\n",
    "            # avg_prec[user_percent, aidx] = avg_prec[user_percent, aidx] + prec/n_trials\n",
    "            # avg_recall[user_percent, aidx] = avg_recall[user_percent, aidx] + recall/n_trials\n",
    "            # avg_f1[user_percent, aidx] = avg_f1[user_percent, aidx] + f1/n_trials\n",
    "            avg_success[user_percent, abl_ind] = (\n",
    "                avg_success[user_percent, abl_ind] + correct_trials / n_trials\n",
    "            )\n",
    "\n",
    "            # Compute mean and variance of ovserved logits distributions\n",
    "            mu0_list[pois_idx], mu1_list[pois_idx] = (\n",
    "                mu0_list[pois_idx] + np.mean(out_M0) / n_trials,\n",
    "                mu1_list[pois_idx] + np.mean(out_M1) / n_trials,\n",
    "            )\n",
    "            var0_list[pois_idx], var1_list[pois_idx] = (\n",
    "                var0_list[pois_idx] + np.var(out_M0) / n_trials,\n",
    "                var1_list[pois_idx] + np.var(out_M1) / n_trials,\n",
    "            )\n"
   ]
  },
  {
   "cell_type": "code",
   "execution_count": 7,
   "id": "26393b72-ac27-451f-978e-3d39999b91ba",
   "metadata": {},
   "outputs": [],
   "source": [
    "# df_cv"
   ]
  },
  {
   "cell_type": "code",
   "execution_count": 8,
   "id": "0346feaf-dccc-4c9d-8af7-631db75fb1a4",
   "metadata": {},
   "outputs": [
    {
     "data": {
      "text/plain": [
       "({}, {}, {}, {})"
      ]
     },
     "execution_count": 8,
     "metadata": {},
     "output_type": "execute_result"
    }
   ],
   "source": [
    "avg_acc, avg_prec, avg_recall, avg_f1"
   ]
  },
  {
   "cell_type": "code",
   "execution_count": 9,
   "id": "1b0fec1c-3a0d-4a44-af7c-06a503678a97",
   "metadata": {},
   "outputs": [
    {
     "data": {
      "text/plain": [
       "{(0.01, 0): 1.0}"
      ]
     },
     "execution_count": 9,
     "metadata": {},
     "output_type": "execute_result"
    }
   ],
   "source": [
    "avg_success"
   ]
  },
  {
   "cell_type": "code",
   "execution_count": 10,
   "id": "55cb9759-80f8-4436-8e25-7993fe2de86d",
   "metadata": {},
   "outputs": [
    {
     "data": {
      "image/png": "[encoded data removed]",
      "text/plain": [
       "<Figure size 640x480 with 1 Axes>"
      ]
     },
     "metadata": {},
     "output_type": "display_data"
    }
   ],
   "source": [
    "import matplotlib.pyplot as plt\n",
    "plt.hist(out_M0, color=\"r\", bins=40, alpha=0.5,label=\"$t_{0}=1\\%$\", edgecolor=\"r\")\n",
    "plt.hist(out_M1, color=\"b\", bins= 40, alpha=0.5, label=\"$t_{1}=5\\%$\", edgecolor=\"b\")\n",
    "plt.legend(title = 'Possible Fractions',fontsize = 8.3)\n",
    "plt.title(f\"Scaled Model Confidences\")\n",
    "plt.yticks(())\n",
    "# plt.savefig(\"SMC-3P.pdf\")\n",
    "plt.show()"
   ]
  }
 ],
 "metadata": {
  "kernelspec": {
   "display_name": "poisdef",
   "language": "python",
   "name": "python3"
  },
  "language_info": {
   "codemirror_mode": {
    "name": "ipython",
    "version": 3
   },
   "file_extension": ".py",
   "mimetype": "text/x-python",
   "name": "python",
   "nbconvert_exporter": "python",
   "pygments_lexer": "ipython3",
   "version": "3.9.13"
  },
  "vscode": {
   "interpreter": {
    "hash": "35dbac74bd7ac141f60202651c61a7544dbb6e962f91dd2d05d25d4e97c4832b"
   }
  }
 },
 "nbformat": 4,
 "nbformat_minor": 5
}
