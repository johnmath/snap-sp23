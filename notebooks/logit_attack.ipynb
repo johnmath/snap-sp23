{
 "cells": [
  {
   "cell_type": "code",
   "execution_count": 1,
   "id": "e9ce3765",
   "metadata": {},
   "outputs": [],
   "source": [
    "%load_ext autoreload\n",
    "%autoreload 2"
   ]
  },
  {
   "cell_type": "code",
   "execution_count": 2,
   "id": "6de9fdcc",
   "metadata": {},
   "outputs": [],
   "source": [
    "import os\n",
    "os.chdir('../')"
   ]
  },
  {
   "cell_type": "code",
   "execution_count": 3,
   "id": "6b833e40-3d3c-495a-bc9d-565673e9f95e",
   "metadata": {},
   "outputs": [],
   "source": [
    "import numpy as np\n",
    "from tqdm import tqdm\n",
    "\n",
    "from propinf.attack.attack_utils import AttackUtil\n",
    "import propinf.data.ModifiedDatasets as data\n",
    "from sklearn.model_selection import train_test_split\n",
    "\n",
    "# import warnings\n",
    "# warnings.filterwarnings(\"ignore\")\n",
    "\n",
    "# cat_columns, cont_columns = data.get_census_columns()\n",
    "cat_columns, cont_columns = data.get_adult_columns()\n",
    "# cat_columns, cont_columns = data.get_market_columns()\n",
    "# cat_columns, cont_columns = data.get_heart_columns()\n",
    "\n",
    "dataset = \"adult\"\n",
    "df_train, df_test = data.load_data(dataset, one_hot=False)"
   ]
  },
  {
   "cell_type": "code",
   "execution_count": 20,
   "id": "49f7fde0-02c9-4d8d-961f-9b3f8df5ea48",
   "metadata": {},
   "outputs": [],
   "source": [
    "categories = ['race', 'sex']\n",
    "target_attributes = [' White', ' Male']\n",
    "sub_categories = ['marital-status']\n",
    "sub_attributes = [' Never-married']\n",
    "\n",
    "t0 = 0.15\n",
    "t1 = 0.30\n",
    "\n",
    "n_trials = 1\n",
    "pois_list = [0.025]"
   ]
  },
  {
   "cell_type": "code",
   "execution_count": 16,
   "id": "d14bd38c-e5b1-45e3-b688-d6c792bf0121",
   "metadata": {},
   "outputs": [
    {
     "data": {
      "text/plain": [
       "array([' Never-married', ' Married-civ-spouse', ' Divorced',\n",
       "       ' Married-spouse-absent', ' Separated', ' Married-AF-spouse',\n",
       "       ' Widowed'], dtype=object)"
      ]
     },
     "execution_count": 16,
     "metadata": {},
     "output_type": "execute_result"
    }
   ],
   "source": [
    "df_train['marital-status'].unique()"
   ]
  },
  {
   "cell_type": "markdown",
   "id": "c30dcfaa-2747-4fd1-bac0-e93a403cc372",
   "metadata": {},
   "source": [
    "# Our work"
   ]
  },
  {
   "cell_type": "markdown",
   "id": "d732ce89-ce19-4f9f-b45a-5c7dee06d1de",
   "metadata": {},
   "source": [
    "**In order to increase the size of target dataset, need to change code in ModifiedDataset.py**"
   ]
  },
  {
   "cell_type": "code",
   "execution_count": 21,
   "id": "ad5bcae1-321f-4692-9979-323c6d1f31bd",
   "metadata": {},
   "outputs": [
    {
     "name": "stdout",
     "output_type": "stream",
     "text": [
      "Before attempting to run the property inference attack, set hyperparameters using\n",
      "            1. set_attack_hyperparameters()\n",
      "            2. set_model_hyperparameters()\n"
     ]
    },
    {
     "name": "stderr",
     "output_type": "stream",
     "text": [
      "  0%|                                                                                                                                      | 0/1 [00:00<?, ?it/s]/Users/chaudhari.ha/Research/snap-sp23/propinf/data/ModifiedDatasets.py:530: SettingWithCopyWarning: \n",
      "A value is trying to be set on a copy of a slice from a DataFrame.\n",
      "Try using .loc[row_indexer,col_indexer] = value instead\n",
      "\n",
      "See the caveats in the documentation: https://pandas.pydata.org/pandas-docs/stable/user_guide/indexing.html#returning-a-view-versus-a-copy\n",
      "  Dp.loc[:, label] = poison_class\n",
      "\n",
      "Training Target Models with 2.50% poisoning:   0%|                                                                                        | 0/10 [00:00<?, ?it/s]\u001b[A\n",
      "Training Target Models with 2.50% poisoning:  10%|████████                                                                        | 1/10 [00:03<00:27,  3.01s/it]\u001b[A\n",
      "Training Target Models with 2.50% poisoning:  20%|████████████████                                                                | 2/10 [00:06<00:26,  3.35s/it]\u001b[A\n",
      "Training Target Models with 2.50% poisoning:  30%|████████████████████████                                                        | 3/10 [00:09<00:22,  3.23s/it]\u001b[A\n",
      "Training Target Models with 2.50% poisoning:  40%|████████████████████████████████                                                | 4/10 [00:12<00:19,  3.20s/it]\u001b[A\n",
      "Training Target Models with 2.50% poisoning:  50%|████████████████████████████████████████                                        | 5/10 [00:15<00:15,  3.13s/it]\u001b[A\n",
      "Training Target Models with 2.50% poisoning:  60%|████████████████████████████████████████████████                                | 6/10 [00:17<00:10,  2.54s/it]\u001b[A\n",
      "Training Target Models with 2.50% poisoning:  70%|████████████████████████████████████████████████████████                        | 7/10 [00:19<00:07,  2.57s/it]\u001b[A\n",
      "Training Target Models with 2.50% poisoning:  80%|████████████████████████████████████████████████████████████████                | 8/10 [00:21<00:04,  2.43s/it]\u001b[A\n",
      "Training Target Models with 2.50% poisoning:  90%|████████████████████████████████████████████████████████████████████████        | 9/10 [00:24<00:02,  2.38s/it]\u001b[A\n",
      "Training Target Models with 2.50% poisoning: 100%|███████████████████████████████████████████████████████████████████████████████| 10/10 [00:26<00:00,  2.64s/it]\u001b[A\n",
      "\n",
      "Training 4 Shadow Models with 2.50% Poisoning:   0%|                                                                                       | 0/4 [00:00<?, ?it/s]\u001b[A\n",
      "Training 4 Shadow Models with 2.50% Poisoning:  25%|███████████████████▊                                                           | 1/4 [00:05<00:15,  5.06s/it]\u001b[A\n",
      "Training 4 Shadow Models with 2.50% Poisoning:  50%|███████████████████████████████████████▌                                       | 2/4 [00:09<00:09,  4.66s/it]\u001b[A\n",
      "Training 4 Shadow Models with 2.50% Poisoning:  75%|███████████████████████████████████████████████████████████▎                   | 3/4 [00:13<00:04,  4.45s/it]\u001b[A\n",
      "Training 4 Shadow Models with 2.50% Poisoning: 100%|███████████████████████████████████████████████████████████████████████████████| 4/4 [00:18<00:00,  4.51s/it]\u001b[A\n",
      "\n",
      "Querying Models and Running Distinguishing Test:   0%|                                                                                    | 0/20 [00:00<?, ?it/s]\u001b[A\n",
      "Querying Models and Running Distinguishing Test:   5%|███▊                                                                        | 1/20 [00:03<01:15,  3.96s/it]\u001b[A\n",
      "Querying Models and Running Distinguishing Test:  10%|███████▌                                                                    | 2/20 [00:07<01:10,  3.94s/it]\u001b[A\n",
      "Querying Models and Running Distinguishing Test:  15%|███████████▍                                                                | 3/20 [00:11<01:07,  3.95s/it]\u001b[A\n",
      "Querying Models and Running Distinguishing Test:  20%|███████████████▏                                                            | 4/20 [00:15<01:03,  3.96s/it]\u001b[A\n",
      "Querying Models and Running Distinguishing Test:  25%|███████████████████                                                         | 5/20 [00:21<01:09,  4.63s/it]\u001b[A\n",
      "Querying Models and Running Distinguishing Test:  30%|██████████████████████▊                                                     | 6/20 [01:01<03:54, 16.78s/it]\u001b[A\n",
      "Querying Models and Running Distinguishing Test:  35%|██████████████████████████▌                                                 | 7/20 [01:06<02:43, 12.60s/it]\u001b[A\n",
      "Querying Models and Running Distinguishing Test:  40%|██████████████████████████████▍                                             | 8/20 [01:12<02:06, 10.58s/it]\u001b[A\n",
      "Querying Models and Running Distinguishing Test:  45%|██████████████████████████████████▏                                         | 9/20 [01:16<01:33,  8.53s/it]\u001b[A\n",
      "Querying Models and Running Distinguishing Test:  50%|█████████████████████████████████████▌                                     | 10/20 [01:20<01:11,  7.12s/it]\u001b[A\n",
      "Querying Models and Running Distinguishing Test:  55%|█████████████████████████████████████████▎                                 | 11/20 [03:41<07:13, 48.19s/it]\u001b[A\n",
      "Querying Models and Running Distinguishing Test:  60%|█████████████████████████████████████████████                              | 12/20 [03:45<04:37, 34.64s/it]\u001b[A\n",
      "Querying Models and Running Distinguishing Test:  65%|████████████████████████████████████████████████▊                          | 13/20 [03:48<02:56, 25.26s/it]\u001b[A\n",
      "Querying Models and Running Distinguishing Test:  70%|████████████████████████████████████████████████████▌                      | 14/20 [03:52<01:52, 18.68s/it]\u001b[A\n",
      "Querying Models and Running Distinguishing Test:  75%|████████████████████████████████████████████████████████▎                  | 15/20 [03:55<01:10, 14.07s/it]\u001b[A\n",
      "Querying Models and Running Distinguishing Test:  80%|████████████████████████████████████████████████████████████               | 16/20 [03:59<00:43, 10.88s/it]\u001b[A\n",
      "Querying Models and Running Distinguishing Test:  85%|███████████████████████████████████████████████████████████████▊           | 17/20 [04:02<00:25,  8.66s/it]\u001b[A\n",
      "Querying Models and Running Distinguishing Test:  90%|███████████████████████████████████████████████████████████████████▌       | 18/20 [04:06<00:14,  7.11s/it]\u001b[A\n",
      "Querying Models and Running Distinguishing Test:  95%|███████████████████████████████████████████████████████████████████████▎   | 19/20 [04:09<00:06,  6.03s/it]\u001b[A\n",
      "Querying Models and Running Distinguishing Test: 100%|███████████████████████████████████████████████████████████████████████████| 20/20 [04:13<00:00, 12.66s/it]\u001b[A\n",
      "100%|█████████████████████████████████████████████████████████████████████████████████████████████████████████████████████████████| 1/1 [05:19<00:00, 319.54s/it]\n"
     ]
    }
   ],
   "source": [
    "num_query_trials = 10\n",
    "avg_success = {}\n",
    "\n",
    "attack_util = AttackUtil(\n",
    "    target_model_layers=[32, 16],\n",
    "    df_train=df_train,\n",
    "    df_test=df_test,\n",
    "    cat_columns=cat_columns,\n",
    ")\n",
    "\n",
    "for pois_idx, user_percent in enumerate(tqdm(pois_list)):\n",
    "\n",
    "    avg_success[user_percent] = 0.0\n",
    "\n",
    "    attack_util.set_attack_hyperparameters(\n",
    "        categories=categories,\n",
    "        target_attributes=target_attributes,\n",
    "        sub_categories=sub_categories,\n",
    "        sub_attributes=sub_attributes,\n",
    "        subproperty_sampling=True,\n",
    "        poison_percent=user_percent,\n",
    "        poison_class=1,\n",
    "        t0=t0,\n",
    "        t1=t1,\n",
    "        variance_adjustment=1.0,\n",
    "        middle=\"median\",\n",
    "        num_queries=1000,\n",
    "        pois_random_seed=21,\n",
    "        num_target_models=10,\n",
    "        ntarget_samples=1500,\n",
    "        nsub_samples=1500,\n",
    "        allow_subsampling=False,\n",
    "        allow_target_subsampling=False,\n",
    "    )\n",
    "\n",
    "    attack_util.set_shadow_model_hyperparameters(\n",
    "        device=\"cpu\",\n",
    "        num_workers=1,\n",
    "        batch_size=256,\n",
    "        layer_sizes=[32,16],\n",
    "        verbose=False,\n",
    "        mini_verbose=False,\n",
    "        epochs=20,\n",
    "        tol=1e-6,\n",
    "    )\n",
    "\n",
    "    for i in range(n_trials):\n",
    "\n",
    "        attack_util.generate_datasets()\n",
    "\n",
    "        attack_util.train_and_poison_target(need_metrics=False)\n",
    "\n",
    "        (\n",
    "            out_M0,\n",
    "            out_M1,\n",
    "            threshold,\n",
    "            correct_trials,\n",
    "        ) = attack_util.property_inference_categorical(\n",
    "            num_shadow_models=4,\n",
    "            query_trials=num_query_trials,\n",
    "            query_selection=\"random\",\n",
    "            distinguishing_test=\"median\",\n",
    "        )\n",
    "\n",
    "        avg_success[user_percent] = (\n",
    "            avg_success[user_percent] + correct_trials / n_trials\n",
    "        )\n"
   ]
  },
  {
   "cell_type": "code",
   "execution_count": 23,
   "id": "1b0fec1c-3a0d-4a44-af7c-06a503678a97",
   "metadata": {},
   "outputs": [
    {
     "data": {
      "text/plain": [
       "{0.025: 0.95}"
      ]
     },
     "execution_count": 23,
     "metadata": {},
     "output_type": "execute_result"
    }
   ],
   "source": [
    "avg_success"
   ]
  },
  {
   "cell_type": "code",
   "execution_count": 26,
   "id": "55cb9759-80f8-4436-8e25-7993fe2de86d",
   "metadata": {},
   "outputs": [
    {
     "data": {
      "image/png": "[encoded data removed]",
      "text/plain": [
       "<Figure size 432x288 with 1 Axes>"
      ]
     },
     "metadata": {
      "needs_background": "light"
     },
     "output_type": "display_data"
    }
   ],
   "source": [
    "import matplotlib.pyplot as plt\n",
    "plt.hist(out_M0, color=\"r\", bins=40, alpha=0.5,label=\"$t_{0}=1\\%$\", edgecolor=\"r\", density = True)\n",
    "plt.hist(out_M1, color=\"b\", bins= 40, alpha=0.5, label=\"$t_{1}=5\\%$\", edgecolor=\"b\", density = True)\n",
    "plt.legend(title = 'Property Sizes',fontsize = 8.3)\n",
    "plt.title(f\"Scaled Model Confidences\")\n",
    "plt.yticks(())\n",
    "# plt.savefig(\"SMC-3P.pdf\")\n",
    "plt.show()"
   ]
  },
  {
   "cell_type": "code",
   "execution_count": null,
   "id": "b4e9bdcd-4416-4a8a-bd97-8a381b63b679",
   "metadata": {},
   "outputs": [],
   "source": []
  }
 ],
 "metadata": {
  "kernelspec": {
   "display_name": "Python 3 (ipykernel)",
   "language": "python",
   "name": "python3"
  },
  "language_info": {
   "codemirror_mode": {
    "name": "ipython",
    "version": 3
   },
   "file_extension": ".py",
   "mimetype": "text/x-python",
   "name": "python",
   "nbconvert_exporter": "python",
   "pygments_lexer": "ipython3",
   "version": "3.10.4"
  },
  "vscode": {
   "interpreter": {
    "hash": "35dbac74bd7ac141f60202651c61a7544dbb6e962f91dd2d05d25d4e97c4832b"
   }
  }
 },
 "nbformat": 4,
 "nbformat_minor": 5
}
